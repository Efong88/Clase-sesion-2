{
 "cells": [
  {
   "cell_type": "code",
   "execution_count": 3,
   "metadata": {},
   "outputs": [
    {
     "name": "stdout",
     "output_type": "stream",
     "text": [
      "Cantidad de articulos comprados: 2\n",
      "Subtotal: 1555.0 n\\Descuento: 155.5 \n",
      "Total a pagar: 1399.5\n"
     ]
    }
   ],
   "source": [
    "from ctypes import POINTER\n",
    "\n",
    "\n",
    "conteo=0\n",
    "total=0\n",
    "monto=float(input(\"Ingrese el monto de la compra(0 para salir):\"))\n",
    "while monto!=0:\n",
    "    while monto<0:\n",
    "        monto=float(input(\"El monto de la compra no debe ser negativo, intente de nuevo (0 para salir):\"))\n",
    "    if monto!=0:\n",
    "        total+=monto\n",
    "        conteo+=1\n",
    "        monto=float(input(\"Ingrese el monto de la compra (0 para salir):\"))\n",
    "print(\"Cantidad de articulos comprados:\",conteo)\n",
    "if total>1000:\n",
    "      print(\"Subtotal:\",total,\"n\\Descuento:\",total*.1,\"\\nTotal a pagar:\", total*.9)\n",
    "else:\n",
    "    print(\"Total a pagar:\", total)"
   ]
  },
  {
   "cell_type": "code",
   "execution_count": null,
   "metadata": {},
   "outputs": [],
   "source": []
  }
 ],
 "metadata": {
  "kernelspec": {
   "display_name": "Python 3.8.8 ('base')",
   "language": "python",
   "name": "python3"
  },
  "language_info": {
   "codemirror_mode": {
    "name": "ipython",
    "version": 3
   },
   "file_extension": ".py",
   "mimetype": "text/x-python",
   "name": "python",
   "nbconvert_exporter": "python",
   "pygments_lexer": "ipython3",
   "version": "3.8.8"
  },
  "orig_nbformat": 4,
  "vscode": {
   "interpreter": {
    "hash": "91b5acd35b20feb4332388131fba05061d4978d1210a4a5e388ef00ee08ebd56"
   }
  }
 },
 "nbformat": 4,
 "nbformat_minor": 2
}
