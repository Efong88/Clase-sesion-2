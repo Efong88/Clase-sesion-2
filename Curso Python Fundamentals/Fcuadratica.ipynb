{
 "cells": [
  {
   "cell_type": "code",
   "execution_count": 14,
   "metadata": {},
   "outputs": [],
   "source": [
    "from cmath import sqrt\n",
    "def fcuadratica(a,b,c):\n",
    "    if ((b**2)-4*a*c)<0:\n",
    "        print(\"La solución es compleja\")\n",
    "    else:\n",
    "        x1=(-b+sqrt(b**2-(4*a*c)))/(2*a)\n",
    "        x2=(-b-sqrt(b**2-(4*a*c)))/(2*a)\n",
    "        print(\"El valor de x1 es: {0} \\nEl valor de x2 es: {1}\" .format(x1,x2))"
   ]
  },
  {
   "cell_type": "markdown",
   "metadata": {},
   "source": []
  },
  {
   "cell_type": "code",
   "execution_count": 16,
   "metadata": {},
   "outputs": [
    {
     "name": "stdout",
     "output_type": "stream",
     "text": [
      "El valor de x1 es: (3.108495283014151+0j) \n",
      "El valor de x2 es: (-1.6084952830141508+0j)\n"
     ]
    }
   ],
   "source": [
    "fcuadratica(8,-12,-40)"
   ]
  },
  {
   "cell_type": "code",
   "execution_count": null,
   "metadata": {},
   "outputs": [],
   "source": []
  }
 ],
 "metadata": {
  "kernelspec": {
   "display_name": "Python 3.8.8 ('base')",
   "language": "python",
   "name": "python3"
  },
  "language_info": {
   "codemirror_mode": {
    "name": "ipython",
    "version": 3
   },
   "file_extension": ".py",
   "mimetype": "text/x-python",
   "name": "python",
   "nbconvert_exporter": "python",
   "pygments_lexer": "ipython3",
   "version": "3.8.8"
  },
  "orig_nbformat": 4,
  "vscode": {
   "interpreter": {
    "hash": "91b5acd35b20feb4332388131fba05061d4978d1210a4a5e388ef00ee08ebd56"
   }
  }
 },
 "nbformat": 4,
 "nbformat_minor": 2
}
