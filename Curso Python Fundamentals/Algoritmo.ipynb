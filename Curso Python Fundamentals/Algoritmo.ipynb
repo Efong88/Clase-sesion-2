{
 "cells": [
  {
   "cell_type": "code",
   "execution_count": null,
   "id": "d4423402",
   "metadata": {},
   "outputs": [],
   "source": [
    "# Flujo pasear en moto\n",
    "\n",
    "# Inicio - revisar el estado de la bateria, prendemos la lueces y vemos si encienden correctamente alta y baja. \n",
    "# Paso 2 - revisamos los fluidos, nivel de aceite y gasolina, si estan todo en orden seguimos si no tenemos que rellenar.\n",
    "# Paso 3 - revisamos la presión de las llantas, si estan en el rango deifinido en el manual seguimos si no tenemos que inflar\n",
    "# los neumaticos\n",
    "# Paso 4 - verificamos el estado de la moto para encontrar fugas, goteos o manchas, si encontramos alguna debemos revisar o\n",
    "# llevar al taller si no tenemos fugas seguimos\n",
    "# Fin - Si esta todo ok en los pasos anteriores encedemos la moto y a pasear."
   ]
  },
  {
   "cell_type": "code",
   "execution_count": null,
   "id": "dec6a02f",
   "metadata": {},
   "outputs": [],
   "source": []
  }
 ],
 "metadata": {
  "kernelspec": {
   "display_name": "Python 3",
   "language": "python",
   "name": "python3"
  },
  "language_info": {
   "codemirror_mode": {
    "name": "ipython",
    "version": 3
   },
   "file_extension": ".py",
   "mimetype": "text/x-python",
   "name": "python",
   "nbconvert_exporter": "python",
   "pygments_lexer": "ipython3",
   "version": "3.6.13"
  }
 },
 "nbformat": 4,
 "nbformat_minor": 5
}
