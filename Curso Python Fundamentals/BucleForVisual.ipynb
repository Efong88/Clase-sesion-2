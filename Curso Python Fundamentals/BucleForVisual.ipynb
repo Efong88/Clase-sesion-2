{
 "cells": [
  {
   "cell_type": "code",
   "execution_count": 10,
   "metadata": {},
   "outputs": [
    {
     "name": "stdout",
     "output_type": "stream",
     "text": [
      "Miguel 18\n",
      "Edwin 23\n",
      "Pedro 16\n",
      "Marco 25\n",
      "Gerardo 9\n",
      "Claudia 21\n",
      "El numero menor es 9 y el numero mayor es 25\n"
     ]
    }
   ],
   "source": [
    "max=0\n",
    "min=999\n",
    "dic = {\"Miguel\":18,\"Edwin\":23,\"Pedro\":16,\"Marco\":25,\"Gerardo\":9,\"Claudia\":21}\n",
    "for k,v in dic.items():\n",
    "    print(k,v)\n",
    "    if (v>max):\n",
    "        max=v\n",
    "    if(v<min):\n",
    "        min=v;\n",
    "print(\"El numero menor es\", min, \"y el numero mayor es\", max)"
   ]
  },
  {
   "cell_type": "code",
   "execution_count": null,
   "metadata": {},
   "outputs": [],
   "source": []
  },
  {
   "cell_type": "code",
   "execution_count": null,
   "metadata": {},
   "outputs": [],
   "source": []
  },
  {
   "cell_type": "code",
   "execution_count": null,
   "metadata": {},
   "outputs": [],
   "source": []
  },
  {
   "cell_type": "code",
   "execution_count": null,
   "metadata": {},
   "outputs": [],
   "source": []
  },
  {
   "cell_type": "code",
   "execution_count": null,
   "metadata": {},
   "outputs": [],
   "source": []
  }
 ],
 "metadata": {
  "kernelspec": {
   "display_name": "Python 3.6.13 ('python_fundamentalsv2')",
   "language": "python",
   "name": "python3"
  },
  "language_info": {
   "codemirror_mode": {
    "name": "ipython",
    "version": 3
   },
   "file_extension": ".py",
   "mimetype": "text/x-python",
   "name": "python",
   "nbconvert_exporter": "python",
   "pygments_lexer": "ipython3",
   "version": "3.6.13"
  },
  "orig_nbformat": 4,
  "vscode": {
   "interpreter": {
    "hash": "015c6f5b58401371dc6fb6c7b2beeed4c95d34b5c24780fbb430ffd642696e5a"
   }
  }
 },
 "nbformat": 4,
 "nbformat_minor": 2
}
