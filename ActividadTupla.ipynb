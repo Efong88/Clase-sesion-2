{
 "cells": [
  {
   "cell_type": "markdown",
   "id": "c74b3654",
   "metadata": {},
   "source": [
    "## Actividad Tupla"
   ]
  },
  {
   "cell_type": "code",
   "execution_count": 2,
   "id": "3a71dd9f",
   "metadata": {},
   "outputs": [],
   "source": [
    "Tupla=(1,2,3,4,5)"
   ]
  },
  {
   "cell_type": "code",
   "execution_count": 3,
   "id": "74e50adc",
   "metadata": {},
   "outputs": [
    {
     "data": {
      "text/plain": [
       "tuple"
      ]
     },
     "execution_count": 3,
     "metadata": {},
     "output_type": "execute_result"
    }
   ],
   "source": [
    "type(Tupla)"
   ]
  },
  {
   "cell_type": "code",
   "execution_count": 10,
   "id": "8cc8a882",
   "metadata": {},
   "outputs": [],
   "source": [
    "lista =list(Tupla)"
   ]
  },
  {
   "cell_type": "code",
   "execution_count": 13,
   "id": "777e1653",
   "metadata": {},
   "outputs": [
    {
     "data": {
      "text/plain": [
       "list"
      ]
     },
     "execution_count": 13,
     "metadata": {},
     "output_type": "execute_result"
    }
   ],
   "source": [
    "type(lista)"
   ]
  },
  {
   "cell_type": "code",
   "execution_count": 15,
   "id": "ee1c8281",
   "metadata": {},
   "outputs": [
    {
     "name": "stdout",
     "output_type": "stream",
     "text": [
      "[1, 2, 3, 4, 5]\n"
     ]
    }
   ],
   "source": [
    "print (lista)"
   ]
  },
  {
   "cell_type": "code",
   "execution_count": 16,
   "id": "83dc3cbe",
   "metadata": {},
   "outputs": [],
   "source": [
    "Diccionario = {1:\"a\",2:\"b\",3:\"c\",4:\"d\",5:\"e\"}"
   ]
  },
  {
   "cell_type": "code",
   "execution_count": 17,
   "id": "93577fe4",
   "metadata": {},
   "outputs": [
    {
     "data": {
      "text/plain": [
       "dict"
      ]
     },
     "execution_count": 17,
     "metadata": {},
     "output_type": "execute_result"
    }
   ],
   "source": [
    "type(Diccionario)"
   ]
  },
  {
   "cell_type": "code",
   "execution_count": 18,
   "id": "f9008b5f",
   "metadata": {},
   "outputs": [
    {
     "name": "stdout",
     "output_type": "stream",
     "text": [
      "{1: 'a', 2: 'b', 3: 'c', 4: 'd', 5: 'e'}\n"
     ]
    }
   ],
   "source": [
    "print (Diccionario)"
   ]
  },
  {
   "cell_type": "code",
   "execution_count": null,
   "id": "b00322d9",
   "metadata": {},
   "outputs": [],
   "source": []
  }
 ],
 "metadata": {
  "kernelspec": {
   "display_name": "Python 3",
   "language": "python",
   "name": "python3"
  },
  "language_info": {
   "codemirror_mode": {
    "name": "ipython",
    "version": 3
   },
   "file_extension": ".py",
   "mimetype": "text/x-python",
   "name": "python",
   "nbconvert_exporter": "python",
   "pygments_lexer": "ipython3",
   "version": "3.6.13"
  }
 },
 "nbformat": 4,
 "nbformat_minor": 5
}
